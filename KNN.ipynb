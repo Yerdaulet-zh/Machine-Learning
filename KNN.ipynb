{
 "cells": [
  {
   "cell_type": "code",
   "execution_count": 1,
   "id": "15263c52",
   "metadata": {},
   "outputs": [],
   "source": [
    "import numpy as np\n",
    "\n",
    "from sklearn.datasets import load_iris\n",
    "from sklearn.metrics import accuracy_score\n",
    "from sklearn.preprocessing import StandardScaler\n",
    "from sklearn.neighbors import KNeighborsClassifier"
   ]
  },
  {
   "cell_type": "code",
   "execution_count": 2,
   "id": "9a8cd3ae",
   "metadata": {},
   "outputs": [],
   "source": [
    "data, labels = load_iris(return_X_y=True)"
   ]
  },
  {
   "cell_type": "markdown",
   "id": "f84b57bd",
   "metadata": {},
   "source": [
    "### Build KNN alghorithm"
   ]
  },
  {
   "cell_type": "code",
   "execution_count": 3,
   "id": "70f14c92",
   "metadata": {},
   "outputs": [],
   "source": [
    "class KNN():\n",
    "    def __init__(self, num_neightbors, distance_name=\"euclidean\"):\n",
    "        self.distance_name = distance_name\n",
    "        self.num_neightbors = num_neightbors\n",
    "        \n",
    "    def fit(self, data, target):\n",
    "        self.data = data\n",
    "        self.target = target\n",
    "        \n",
    "    def classify(self, vector_t):\n",
    "        if len(vector_t.shape) == 0:\n",
    "            vector_t = vector_t[None]\n",
    "        else:\n",
    "            distance = self.distance_fn(vector_t)\n",
    "            sorted_distance = np.argsort(distance, axis=0)\n",
    "            neighbors = self.target[sorted_distance[:, :self.num_neightbors]]\n",
    "            index, _ = np.unique(neighbors, return_counts=True, axis=1)\n",
    "            return index[:, 0]\n",
    "        \n",
    "    def distance_fn(self, vector_t):\n",
    "        if self.distance_name == \"euclidean\":\n",
    "            distance = np.sqrt(pow(vector_t[:, :, None] - self.data[:, :, None].T, 2).sum(1))\n",
    "            return distance"
   ]
  },
  {
   "cell_type": "code",
   "execution_count": 4,
   "id": "ab313b67",
   "metadata": {},
   "outputs": [
    {
     "data": {
      "text/plain": [
       "0.9333333333333333"
      ]
     },
     "execution_count": 4,
     "metadata": {},
     "output_type": "execute_result"
    }
   ],
   "source": [
    "knn = KNN(num_neightbors=3, distance_name=\"euclidean\")\n",
    "knn.fit(data, labels)\n",
    "classified = knn.classify(data)\n",
    "accuracy_score(labels, classified)"
   ]
  },
  {
   "cell_type": "code",
   "execution_count": 5,
   "id": "4b0a9e60",
   "metadata": {},
   "outputs": [
    {
     "data": {
      "text/plain": [
       "0.8933333333333333"
      ]
     },
     "execution_count": 5,
     "metadata": {},
     "output_type": "execute_result"
    }
   ],
   "source": [
    "scaler = StandardScaler()\n",
    "nor_data = scaler.fit_transform(data)\n",
    "knn.fit(nor_data, labels)\n",
    "classified = knn.classify(nor_data)\n",
    "accuracy_score(labels, classified)"
   ]
  },
  {
   "cell_type": "code",
   "execution_count": 6,
   "id": "4e830c97",
   "metadata": {},
   "outputs": [
    {
     "data": {
      "text/plain": [
       "0.9533333333333334"
      ]
     },
     "execution_count": 6,
     "metadata": {},
     "output_type": "execute_result"
    }
   ],
   "source": [
    "knn = KNeighborsClassifier(n_neighbors=3, metric=\"euclidean\")\n",
    "knn.fit(nor_data, labels)\n",
    "pred = knn.predict(nor_data)\n",
    "accuracy_score(labels, pred)"
   ]
  },
  {
   "cell_type": "code",
   "execution_count": null,
   "id": "b91e1945",
   "metadata": {},
   "outputs": [],
   "source": []
  },
  {
   "cell_type": "code",
   "execution_count": null,
   "id": "3f7c4ed6",
   "metadata": {},
   "outputs": [],
   "source": []
  },
  {
   "cell_type": "code",
   "execution_count": null,
   "id": "9f2f1160",
   "metadata": {},
   "outputs": [],
   "source": []
  }
 ],
 "metadata": {
  "kernelspec": {
   "display_name": "Python 3 (ipykernel)",
   "language": "python",
   "name": "python3"
  },
  "language_info": {
   "codemirror_mode": {
    "name": "ipython",
    "version": 3
   },
   "file_extension": ".py",
   "mimetype": "text/x-python",
   "name": "python",
   "nbconvert_exporter": "python",
   "pygments_lexer": "ipython3",
   "version": "3.9.13"
  }
 },
 "nbformat": 4,
 "nbformat_minor": 5
}
